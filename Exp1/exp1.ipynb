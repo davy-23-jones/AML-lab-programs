{
 "cells": [
  {
   "cell_type": "code",
   "execution_count": 1,
   "id": "05818070",
   "metadata": {},
   "outputs": [],
   "source": [
    "from sklearn.neighbors import KNeighborsClassifier\n",
    "from sklearn import datasets\n",
    "from sklearn import metrics\n",
    "from sklearn.model_selection import train_test_split"
   ]
  },
  {
   "cell_type": "code",
   "execution_count": 2,
   "id": "2ad26cd2",
   "metadata": {},
   "outputs": [
    {
     "name": "stdout",
     "output_type": "stream",
     "text": [
      "Dataset Loaded.\n",
      "Label 0 setosa\n",
      "Label 1 versicolor\n",
      "Label 2 virginica\n"
     ]
    }
   ],
   "source": [
    "iris = datasets.load_iris()\n",
    "print(\"Dataset Loaded.\")\n",
    "for i in range(len(iris.target_names)):\n",
    "    print(\"Label\", i, iris.target_names[i], \n",
    "         )"
   ]
  },
  {
   "cell_type": "code",
   "execution_count": 3,
   "id": "b4057482",
   "metadata": {},
   "outputs": [],
   "source": [
    "xtrain, xtest, ytrain,ytest = train_test_split(iris.data, iris.target, test_size = 0.1)"
   ]
  },
  {
   "cell_type": "code",
   "execution_count": 4,
   "id": "3b5797d8",
   "metadata": {},
   "outputs": [],
   "source": [
    "classifier = KNeighborsClassifier(n_neighbors=2).fit(xtrain, ytrain)\n",
    "ypred = classifier.predict(xtest)\n",
    "i = 0"
   ]
  },
  {
   "cell_type": "code",
   "execution_count": 5,
   "id": "5b0cf10f",
   "metadata": {},
   "outputs": [
    {
     "name": "stdout",
     "output_type": "stream",
     "text": [
      "Original Label            Predicted Label           Correct/Wrong            \n",
      "-------------------------------------------------------------------------\n",
      "1                         1                         Correct                  \n",
      "1                         1                         Correct                  \n",
      "2                         2                         Correct                  \n",
      "1                         1                         Correct                  \n",
      "2                         2                         Correct                  \n",
      "2                         2                         Correct                  \n",
      "0                         0                         Correct                  \n",
      "0                         0                         Correct                  \n",
      "2                         2                         Correct                  \n",
      "0                         0                         Correct                  \n",
      "2                         2                         Correct                  \n",
      "1                         1                         Correct                  \n",
      "1                         1                         Correct                  \n",
      "1                         1                         Correct                  \n",
      "0                         0                         Correct                  \n"
     ]
    }
   ],
   "source": [
    "print('%-25s %-25s %-25s' % ('Original Label', 'Predicted Label', 'Correct/Wrong'))\n",
    "print(\"-------------------------------------------------------------------------\")\n",
    "\n",
    "for label in ytest:\n",
    "    print('%-25s %-25s' % (label, ypred[i]), end=\"\")\n",
    "    if label == ypred[i]:\n",
    "        print(' %-25s' % ('Correct'))\n",
    "    else:\n",
    "        print(' %-25s' % ('Wrong'))\n",
    "    i = i + 1"
   ]
  },
  {
   "cell_type": "code",
   "execution_count": 6,
   "id": "0b0c8971",
   "metadata": {},
   "outputs": [
    {
     "name": "stdout",
     "output_type": "stream",
     "text": [
      "\n",
      "Confusion Matrix:\n",
      " [[4 0 0]\n",
      " [0 6 0]\n",
      " [0 0 5]]\n",
      "-------------------------------------------------------------------------\n",
      "\n",
      "Classification Report:\n",
      "               precision    recall  f1-score   support\n",
      "\n",
      "           0       1.00      1.00      1.00         4\n",
      "           1       1.00      1.00      1.00         6\n",
      "           2       1.00      1.00      1.00         5\n",
      "\n",
      "    accuracy                           1.00        15\n",
      "   macro avg       1.00      1.00      1.00        15\n",
      "weighted avg       1.00      1.00      1.00        15\n",
      "\n",
      "-------------------------------------------------------------------------\n",
      "Accuracy of the classifIer is 1.00\n",
      "-------------------------------------------------------------------------\n"
     ]
    }
   ],
   "source": [
    "print(\"\\nConfusion Matrix:\\n\", metrics.confusion_matrix(ytest, ypred))\n",
    "print(\"-------------------------------------------------------------------------\")\n",
    "print(\"\\nClassification Report:\\n\", metrics.classification_report(ytest, ypred))\n",
    "print(\"-------------------------------------------------------------------------\")\n",
    "print('Accuracy of the classifIer is %0.2f' % metrics.accuracy_score(ytest, ypred))\n",
    "print(\"-------------------------------------------------------------------------\")\n"
   ]
  },
  {
   "cell_type": "code",
   "execution_count": null,
   "id": "faa7cfce",
   "metadata": {},
   "outputs": [],
   "source": []
  }
 ],
 "metadata": {
  "kernelspec": {
   "display_name": "Python 3 (ipykernel)",
   "language": "python",
   "name": "python3"
  },
  "language_info": {
   "codemirror_mode": {
    "name": "ipython",
    "version": 3
   },
   "file_extension": ".py",
   "mimetype": "text/x-python",
   "name": "python",
   "nbconvert_exporter": "python",
   "pygments_lexer": "ipython3",
   "version": "3.7.9"
  }
 },
 "nbformat": 4,
 "nbformat_minor": 5
}
