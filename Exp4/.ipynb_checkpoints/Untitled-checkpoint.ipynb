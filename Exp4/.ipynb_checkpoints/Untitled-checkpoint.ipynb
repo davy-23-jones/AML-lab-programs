{
 "cells": [
  {
   "cell_type": "code",
   "execution_count": 9,
   "id": "38371022",
   "metadata": {},
   "outputs": [],
   "source": [
    "import numpy as np\n",
    "X = np.array(([2, 9], [1, 5], [3, 6]), dtype=float)\n",
    "y = np.array(([92], [86], [89]), dtype=float)\n",
    "X = X / np.amax(X, axis=0)  # maximum of X array longitudinally\n",
    "y = y / 100"
   ]
  },
  {
   "cell_type": "code",
   "execution_count": 10,
   "id": "b872dc57",
   "metadata": {},
   "outputs": [],
   "source": [
    "def sigmoid(x):\n",
    "    return 1 / (1 + np.exp(-x))"
   ]
  },
  {
   "cell_type": "code",
   "execution_count": 16,
   "id": "d1e2732a",
   "metadata": {},
   "outputs": [],
   "source": [
    "def derivative_sigmoid(x):\n",
    "    return x * (1 - x)"
   ]
  },
  {
   "cell_type": "code",
   "execution_count": 17,
   "id": "dace5e0c",
   "metadata": {},
   "outputs": [],
   "source": [
    "epoch = 5 \n",
    "lr = 0.1 \n",
    "inputlayer_neurons = 2 \n",
    "hiddenlayer_neurons = 3 \n",
    "output_neurons = 1 "
   ]
  },
  {
   "cell_type": "code",
   "execution_count": 18,
   "id": "81540d36",
   "metadata": {},
   "outputs": [],
   "source": [
    "wh = np.random.uniform(size=(inputlayer_neurons, hiddenlayer_neurons))\n",
    "bh = np.random.uniform(size=(1, hiddenlayer_neurons))\n",
    "wout = np.random.uniform(size=(hiddenlayer_neurons, output_neurons))\n",
    "bout = np.random.uniform(size=(1, output_neurons))"
   ]
  },
  {
   "cell_type": "code",
   "execution_count": 26,
   "id": "29f87428",
   "metadata": {},
   "outputs": [
    {
     "name": "stdout",
     "output_type": "stream",
     "text": [
      "Epoch- 1 Starts------\n",
      "Input:\n",
      "[[0.66666667 1.        ]\n",
      " [0.33333333 0.55555556]\n",
      " [1.         0.66666667]]\n",
      "Actual output:[[0.92]\n",
      " [0.86]\n",
      " [0.89]]\n",
      "Predicted Output: [[0.91319413]\n",
      " [0.89853027]\n",
      " [0.91064159]]\n",
      "Epoch ends\n",
      "Epoch- 2 Starts------\n",
      "Input:\n",
      "[[0.66666667 1.        ]\n",
      " [0.33333333 0.55555556]\n",
      " [1.         0.66666667]]\n",
      "Actual output:[[0.92]\n",
      " [0.86]\n",
      " [0.89]]\n",
      "Predicted Output: [[0.91313468]\n",
      " [0.89846932]\n",
      " [0.9105819 ]]\n",
      "Epoch ends\n",
      "Epoch- 3 Starts------\n",
      "Input:\n",
      "[[0.66666667 1.        ]\n",
      " [0.33333333 0.55555556]\n",
      " [1.         0.66666667]]\n",
      "Actual output:[[0.92]\n",
      " [0.86]\n",
      " [0.89]]\n",
      "Predicted Output: [[0.91307537]\n",
      " [0.89840852]\n",
      " [0.91052234]]\n",
      "Epoch ends\n",
      "Epoch- 4 Starts------\n",
      "Input:\n",
      "[[0.66666667 1.        ]\n",
      " [0.33333333 0.55555556]\n",
      " [1.         0.66666667]]\n",
      "Actual output:[[0.92]\n",
      " [0.86]\n",
      " [0.89]]\n",
      "Predicted Output: [[0.9130162 ]\n",
      " [0.89834786]\n",
      " [0.91046293]]\n",
      "Epoch ends\n",
      "Epoch- 5 Starts------\n",
      "Input:\n",
      "[[0.66666667 1.        ]\n",
      " [0.33333333 0.55555556]\n",
      " [1.         0.66666667]]\n",
      "Actual output:[[0.92]\n",
      " [0.86]\n",
      " [0.89]]\n",
      "Predicted Output: [[0.91295716]\n",
      " [0.89828735]\n",
      " [0.91040365]]\n",
      "Epoch ends\n"
     ]
    }
   ],
   "source": [
    "for i in range(epoch):\n",
    "    #forward\n",
    "    hinp1 = np.dot(X, wh)\n",
    "    hinp = hinp1 + bh\n",
    "    hlayer_act = sigmoid(hinp)\n",
    "    outinp1 = np.dot(hlayer_act, wout)\n",
    "    outinp = outinp1 + bout\n",
    "    output = sigmoid(outinp)\n",
    "    \n",
    "    #backward\n",
    "    EO = y - output\n",
    "    outgrad = derivatives_sigmoid(output)\n",
    "    d_output = EO * outgrad\n",
    "    \n",
    "    EH = d_output.dot(wout.T)\n",
    "    hiddengrad = derivatives_sigmoid(hlayer_act)\n",
    "    d_hiddenlayer = EH * hiddengrad\n",
    "    \n",
    "    wout += hlayer_act.T.dot(d_output) * lr\n",
    "    wh += X.T.dot(d_hiddenlayer) * lr\n",
    "    print(\"Epoch-\", i+1, \"Starts------\")\n",
    "    print(\"Input:\\n\"+str(X))\n",
    "    print(\"Actual output:\" + str(y))\n",
    "    print(\"Predicted Output:\", output)\n",
    "    print(\"Epoch ends\")\n",
    "    \n"
   ]
  },
  {
   "cell_type": "code",
   "execution_count": null,
   "id": "b21de8dc",
   "metadata": {},
   "outputs": [],
   "source": []
  },
  {
   "cell_type": "code",
   "execution_count": null,
   "id": "95824375",
   "metadata": {},
   "outputs": [],
   "source": []
  }
 ],
 "metadata": {
  "kernelspec": {
   "display_name": "Python 3 (ipykernel)",
   "language": "python",
   "name": "python3"
  },
  "language_info": {
   "codemirror_mode": {
    "name": "ipython",
    "version": 3
   },
   "file_extension": ".py",
   "mimetype": "text/x-python",
   "name": "python",
   "nbconvert_exporter": "python",
   "pygments_lexer": "ipython3",
   "version": "3.7.9"
  }
 },
 "nbformat": 4,
 "nbformat_minor": 5
}
